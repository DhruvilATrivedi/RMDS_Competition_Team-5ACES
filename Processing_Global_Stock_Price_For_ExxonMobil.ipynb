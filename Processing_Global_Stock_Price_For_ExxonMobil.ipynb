{
 "cells": [
  {
   "cell_type": "code",
   "execution_count": 4,
   "metadata": {},
   "outputs": [],
   "source": [
    "# Importing Libraries\n",
    "import pandas as pd\n",
    "from pandas import read_csv\n",
    "from pandas import datetime\n",
    "import matplotlib.pyplot as plt\n",
    "%matplotlib inline\n",
    "import numpy as np\n",
    "import warnings\n",
    "warnings.filterwarnings('ignore')"
   ]
  },
  {
   "cell_type": "code",
   "execution_count": 2,
   "metadata": {},
   "outputs": [],
   "source": [
    "# Loading the data\n",
    "global_stock_exxon = pd.read_csv('exxon_stock.csv',index_col='Date',parse_dates=True)\n",
    "global_stock_exxon.sort_index(inplace = True)"
   ]
  },
  {
   "cell_type": "code",
   "execution_count": 3,
   "metadata": {},
   "outputs": [],
   "source": [
    "# Handling Missing Timestamps where missing values are handled by adding previous timestamp values\n",
    "\n",
    "complete_data_normal = pd.DataFrame(columns=['Value','Data Present'])\n",
    "complete_data_normal['Date'] = pd.date_range(start='2017-03-08', end='2021-03-05',freq = 'D')\n",
    "complete_data_normal.index = complete_data_normal['Date']\n",
    "complete_data_normal = complete_data_normal.drop(columns = ['Date'])\n",
    "for i in global_stock_exxon.index:\n",
    "    complete_data_normal['Value'][i]  = global_stock_exxon['Value'][i]\n",
    "    complete_data_normal['Data Present'][i] = 1\n",
    "for i in complete_data_normal.index:\n",
    "    if np.isnan(complete_data_normal['Value'][i]):\n",
    "        complete_data_normal['Value'][i] = previous\n",
    "        complete_data_normal['Data Present'][i] = 0\n",
    "    previous = complete_data_normal['Value'][i]\n",
    "complete_data_normal['Value'] = complete_data_normal['Value'].astype('float64') \n",
    "complete_data_normal.to_csv('final_global_stock_price_for_exxon.csv')"
   ]
  },
  {
   "cell_type": "code",
   "execution_count": null,
   "metadata": {},
   "outputs": [],
   "source": []
  }
 ],
 "metadata": {
  "kernelspec": {
   "display_name": "Python 3",
   "language": "python",
   "name": "python3"
  },
  "language_info": {
   "codemirror_mode": {
    "name": "ipython",
    "version": 3
   },
   "file_extension": ".py",
   "mimetype": "text/x-python",
   "name": "python",
   "nbconvert_exporter": "python",
   "pygments_lexer": "ipython3",
   "version": "3.7.3"
  }
 },
 "nbformat": 4,
 "nbformat_minor": 2
}
